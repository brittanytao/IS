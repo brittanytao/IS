{
 "cells": [
  {
   "cell_type": "code",
   "execution_count": 1,
   "metadata": {},
   "outputs": [
    {
     "ename": "SyntaxError",
     "evalue": "Missing parentheses in call to 'print'. Did you mean print(nt '#Null objects in column', column, ': ')? (<ipython-input-1-8ac5e370a96e>, line 17)",
     "output_type": "error",
     "traceback": [
      "\u001b[1;36m  File \u001b[1;32m\"<ipython-input-1-8ac5e370a96e>\"\u001b[1;36m, line \u001b[1;32m17\u001b[0m\n\u001b[1;33m    print '#Null objects in column', column, ': '\u001b[0m\n\u001b[1;37m                                  ^\u001b[0m\n\u001b[1;31mSyntaxError\u001b[0m\u001b[1;31m:\u001b[0m Missing parentheses in call to 'print'. Did you mean print(nt '#Null objects in column', column, ': ')?\n"
     ]
    }
   ],
   "source": [
    "import pandas as pd\n",
    "\n",
    "#read the data\n",
    "data = pd.read_csv('.\\\\zappos_data.csv', dtype=str)\n",
    "\n",
    "#convert data into proper format\n",
    "data['Quantity'] = pd.to_numeric(data['Quantity'])\n",
    "data['UnitPrice'] = pd.to_numeric(data['UnitPrice'])\n",
    "data['InvoiceDate'] = pd.to_datetime(data['InvoiceDate'], format=\"%m/%d/%Y %H:%M\")\n",
    "\n",
    "#See data description\n",
    "data.info()\n",
    "\n",
    "#Another way to look at data description\n",
    "#Find how many rows are empty in dataframe\n",
    "for column in data.columns:\n",
    "   print '#Null objects in column', column, ': '\n",
    "   print len(data) - data[column].count(), ' rows - ', (len(data) - data[column].count())*100.0/len(data), '% of dataset'\n",
    "#Thus we see that only Description and CustomerID have missing values.\n",
    "#Out of which about 25% of customerId is missing. Thus we should be aware while doing any customer analytics on this dataset\n",
    "\n",
    "#Lets check business health -\n",
    "#1 - Checking distribution of cancelled transaction\n",
    "invoice_total = data.InvoiceNo.count()\n",
    "cancellations_count = data[data['InvoiceNo'].str.contains(\"C|c\")==True].InvoiceNo.count()\n",
    "cancellations_percent = cancellations_count*100.00/invoice_total\n",
    "non_cancelled_count =  invoice_total - cancellations_count\n",
    "non_cancelled_percent = non_cancelled_count*100.00/invoice_total"
   ]
  },
  {
   "cell_type": "code",
   "execution_count": 2,
   "metadata": {
    "collapsed": true
   },
   "outputs": [],
   "source": [
    "import pandas as pd"
   ]
  },
  {
   "cell_type": "code",
   "execution_count": 4,
   "metadata": {
    "collapsed": true
   },
   "outputs": [],
   "source": [
    "#read the data\n",
    "data = pd.read_csv('data_science_analytics_2018_data.csv', dtype=str)"
   ]
  },
  {
   "cell_type": "code",
   "execution_count": 8,
   "metadata": {},
   "outputs": [],
   "source": [
    "#convert data into proper format\n",
    "data['Quantity'] = pd.to_numeric(data['Quantity'])\n",
    "data['UnitPrice'] = pd.to_numeric(data['UnitPrice'])\n",
    "data['InvoiceDate'] = pd.to_datetime(data['InvoiceDate'])"
   ]
  },
  {
   "cell_type": "code",
   "execution_count": 9,
   "metadata": {},
   "outputs": [
    {
     "name": "stdout",
     "output_type": "stream",
     "text": [
      "<class 'pandas.core.frame.DataFrame'>\n",
      "RangeIndex: 541909 entries, 0 to 541908\n",
      "Data columns (total 8 columns):\n",
      "InvoiceNo      541909 non-null object\n",
      "StockCode      541909 non-null object\n",
      "Description    540455 non-null object\n",
      "Quantity       541909 non-null int64\n",
      "InvoiceDate    541909 non-null datetime64[ns]\n",
      "UnitPrice      541909 non-null float64\n",
      "CustomerID     406829 non-null object\n",
      "Country        541909 non-null object\n",
      "dtypes: datetime64[ns](1), float64(1), int64(1), object(5)\n",
      "memory usage: 33.1+ MB\n"
     ]
    }
   ],
   "source": [
    "#See data description\n",
    "data.info()"
   ]
  },
  {
   "cell_type": "code",
   "execution_count": 33,
   "metadata": {},
   "outputs": [
    {
     "name": "stdout",
     "output_type": "stream",
     "text": [
      "#Null objects in column InvoiceNo : \n",
      "0  rows -  0.0 % of dataset\n",
      "#Null objects in column StockCode : \n",
      "0  rows -  0.0 % of dataset\n",
      "#Null objects in column Description : \n",
      "1454  rows -  0.268310731138 % of dataset\n",
      "#Null objects in column Quantity : \n",
      "0  rows -  0.0 % of dataset\n",
      "#Null objects in column InvoiceDate : \n",
      "0  rows -  0.0 % of dataset\n",
      "#Null objects in column UnitPrice : \n",
      "0  rows -  0.0 % of dataset\n",
      "#Null objects in column CustomerID : \n",
      "135080  rows -  24.9266943343 % of dataset\n",
      "#Null objects in column Country : \n",
      "0  rows -  0.0 % of dataset\n"
     ]
    }
   ],
   "source": [
    "\n",
    "#Another way to look at data description\n",
    "#Find how many rows are empty in dataframe\n",
    "for column in data.columns:\n",
    "    print ('#Null objects in column', column, ': ')\n",
    "    print (len(data) - data[column].count(), ' rows - ', (len(data) - data[column].count())*100.0/len(data), '% of dataset')\n",
    "#Thus we see that only Description and CustomerID have missing values.\n",
    "#Out of which about 25% of customerId is missing. Thus we should be aware while doing any customer analytics on this dataset"
   ]
  },
  {
   "cell_type": "code",
   "execution_count": 32,
   "metadata": {},
   "outputs": [
    {
     "name": "stdout",
     "output_type": "stream",
     "text": [
      "9288\n",
      "1.71394090152\n",
      "532621\n",
      "98.2860590985\n"
     ]
    }
   ],
   "source": [
    "#Lets check business health -\n",
    "#1 - Checking distribution of cancelled transaction\n",
    "invoice_total = data.InvoiceNo.count()\n",
    "cancellations_count = data[data['InvoiceNo'].str.contains(\"C|c\")==True].InvoiceNo.count()\n",
    "print(cancellations_count)\n",
    "cancellations_percent = cancellations_count*100.00/invoice_total\n",
    "print(cancellations_percent)\n",
    "non_cancelled_count =  invoice_total - cancellations_count\n",
    "print(non_cancelled_count)\n",
    "non_cancelled_percent = non_cancelled_count*100.00/invoice_total\n",
    "print(non_cancelled_percent)"
   ]
  },
  {
   "cell_type": "code",
   "execution_count": 34,
   "metadata": {},
   "outputs": [
    {
     "data": {
      "text/plain": [
       "85123A      2313\n",
       "22423       2203\n",
       "85099B      2159\n",
       "47566       1727\n",
       "20725       1639\n",
       "84879       1502\n",
       "22720       1477\n",
       "22197       1476\n",
       "21212       1385\n",
       "20727       1350\n",
       "22383       1348\n",
       "22457       1280\n",
       "23203       1267\n",
       "POST        1256\n",
       "22386       1251\n",
       "22469       1239\n",
       "22960       1229\n",
       "21931       1214\n",
       "22086       1210\n",
       "22411       1202\n",
       "20728       1197\n",
       "22382       1192\n",
       "22961       1182\n",
       "22666       1180\n",
       "23298       1179\n",
       "22699       1138\n",
       "22384       1137\n",
       "23209       1135\n",
       "82482       1129\n",
       "22993       1111\n",
       "            ... \n",
       "84664          1\n",
       "90020          1\n",
       "85179a         1\n",
       "21283          1\n",
       "85044          1\n",
       "90046          1\n",
       "47563B         1\n",
       "23643          1\n",
       "35969          1\n",
       "84875A         1\n",
       "17001          1\n",
       "DCGS0071       1\n",
       "47593b         1\n",
       "21337          1\n",
       "84971l         1\n",
       "72732          1\n",
       "20689          1\n",
       "84761          1\n",
       "DCGS0067       1\n",
       "DCGS0074       1\n",
       "20871          1\n",
       "37477B         1\n",
       "79323G         1\n",
       "85049c         1\n",
       "23059          1\n",
       "72803B         1\n",
       "90102          1\n",
       "23001          1\n",
       "84864A         1\n",
       "72038P         1\n",
       "Name: StockCode, Length: 4070, dtype: int64"
      ]
     },
     "execution_count": 34,
     "metadata": {},
     "output_type": "execute_result"
    }
   ],
   "source": [
    "data['StockCode'].value_counts()"
   ]
  },
  {
   "cell_type": "code",
   "execution_count": null,
   "metadata": {
    "collapsed": true
   },
   "outputs": [],
   "source": []
  }
 ],
 "metadata": {
  "kernelspec": {
   "display_name": "Python 3",
   "language": "python",
   "name": "python3"
  },
  "language_info": {
   "codemirror_mode": {
    "name": "ipython",
    "version": 3
   },
   "file_extension": ".py",
   "mimetype": "text/x-python",
   "name": "python",
   "nbconvert_exporter": "python",
   "pygments_lexer": "ipython3",
   "version": "3.6.3"
  }
 },
 "nbformat": 4,
 "nbformat_minor": 2
}
